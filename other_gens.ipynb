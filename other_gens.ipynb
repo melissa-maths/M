{
 "cells": [
  {
   "cell_type": "markdown",
   "id": "65bef919",
   "metadata": {},
   "source": [
    "# Generators for (certain) maximal subgroups of the Monster\n",
    "\n",
    "Authors: Heiko Dietrich, Melissa Lee, and Tomasz Popiel\n",
    "\n",
    "Date: 12 December 2023\n",
    "\n",
    "In our paper <a href=\"https://arxiv.org/abs/2304.14646\">The maximal subgroups of the Monster</a>, we note that we have constructed (generators for) certain maximal subgroups of the Monster $\\mathbf{M}$ that were not needed for our proofs, but that might be of independent interest. \n",
    "\n",
    "Here we provide those generators (in <a href=\"https://github.com/Martin-Seysen/mmgroup\">mmgroup</a> format), with proofs that they generate the claimed maximal subgroups of $\\mathbf{M}$.\n",
    "\n",
    "Where possible, we seek to construct \"standard generators\" as defined by <a href=\"https://doi.org/10.1006/jabr.1996.0271\">Wilson</a> and/or the <a href=\"http://atlas.math.rwth-aachen.de/Atlas/v3/index.html\">online Atlas</a> (of Finite Group Representations).\n",
    "\n",
    "In some cases, we also provide additional data, e.g. conjugacy class fusion from the maximal subgroup to the Monster.\n",
    "\n",
    "**Warning: some variable names are repeated for conciseness, so this file should be read section-by-section.**"
   ]
  },
  {
   "cell_type": "markdown",
   "id": "5d764abf",
   "metadata": {},
   "source": [
    "## Preliminary code\n",
    "\n",
    "Import required package(s) and define basic function(s)."
   ]
  },
  {
   "cell_type": "code",
   "execution_count": 1,
   "id": "2eeb2acd",
   "metadata": {},
   "outputs": [],
   "source": [
    "from mmgroup import *"
   ]
  },
  {
   "cell_type": "code",
   "execution_count": 2,
   "id": "92bf1e8c",
   "metadata": {},
   "outputs": [],
   "source": [
    "# Group commutator\n",
    "def Comm(a,b):\n",
    "   return a**(-1)*b**(-1)*a*b"
   ]
  },
  {
   "cell_type": "markdown",
   "id": "eca9fed9",
   "metadata": {},
   "source": [
    "## Generators for $2.\\mathbf{B} < \\mathbf{M}$\n",
    "\n",
    "The maximal subgroup $2.\\mathbf{B}$ of $\\mathbf{M}$ is the centraliser of an involution of class $2\\text{A}$. Our copy of this subgroup is the centraliser of the 'standard' $2\\text{A}$-involution in mmgroup, namely the following element."
   ]
  },
  {
   "cell_type": "code",
   "execution_count": 3,
   "id": "b0751037",
   "metadata": {},
   "outputs": [],
   "source": [
    "y = MM(\"M<d_200h>\")"
   ]
  },
  {
   "cell_type": "markdown",
   "id": "00cacec3",
   "metadata": {},
   "source": [
    "Confirm that $y$ is the standard $2\\text{A}$-involution."
   ]
  },
  {
   "cell_type": "code",
   "execution_count": 4,
   "id": "b7dcfeb2",
   "metadata": {},
   "outputs": [
    {
     "data": {
      "text/plain": [
       "(1, M<1>)"
      ]
     },
     "execution_count": 4,
     "metadata": {},
     "output_type": "execute_result"
    }
   ],
   "source": [
    "y.conjugate_involution()"
   ]
  },
  {
   "cell_type": "markdown",
   "id": "6064f94a",
   "metadata": {},
   "source": [
    "The following elements $a$ and $b$ of $\\mathbf{M}$ centralise $y$."
   ]
  },
  {
   "cell_type": "code",
   "execution_count": 5,
   "id": "276c3e87",
   "metadata": {},
   "outputs": [
    {
     "data": {
      "text/plain": [
       "True"
      ]
     },
     "execution_count": 5,
     "metadata": {},
     "output_type": "execute_result"
    }
   ],
   "source": [
    "a = MM(\"M<y_0bdh*x_133h*d_0b03h*p_122433352*l_1*p_71005440*l_2*p_220471680*l_2*t_2*l_2*p_60360960*l_1*p_232890288*l_2*t_1*l_2*p_59473920*l_2*p_241760688*l_1*t_1*l_1*p_13326720*l_2>\")\n",
    "b = MM(\"M<y_480h*x_15a9h*d_800h*p_55059691*l_1*p_71005440*l_1*p_199182768*t_1*l_1*p_59917440*l_1*p_242647728*l_1*t_1*l_1*p_49716480*l_1*p_240430080*l_1*t_1*l_2*p_15987840*l_2*t_1*l_2*p_141081600>\")\n",
    "Comm(y,a) == Comm(y,b) == MM(\"M<1>\")"
   ]
  },
  {
   "cell_type": "markdown",
   "id": "25ed7d1d",
   "metadata": {},
   "source": [
    "We claim that $a$ and $b$ are \"standard generators\" for $C_\\mathbf{M}(y) \\cong 2.\\mathbf{B}$. This means that $a$ and $b$ generate $C_\\mathbf{M}(y)$ and satisfy the following properties:\n",
    "\n",
    "1. $a$ projects to the $\\mathbf{B}$-class $2\\text{C}$,\n",
    "2. $b$ projects to the $\\mathbf{B}$-class $3\\text{A}$, \n",
    "3. $ab$ projects to the $\\mathbf{B}$-class $55\\text{A}$, \n",
    "4. $(ab)^3(ab^2)(ab)(ab^2)^2$ projects to an element of order $23$.\n",
    "\n",
    "We first show that $a$ and $b$ generate $C_\\mathbf{M}(y)$. It suffices to exhibit an element of order $17$ and an element of order $31$ in $\\langle a,b \\rangle$, because no maximal subgroup of the quotient $\\mathbf{B}$ of $2.\\mathbf{B}$ contains elements of both orders."
   ]
  },
  {
   "cell_type": "code",
   "execution_count": 6,
   "id": "7916ff3c",
   "metadata": {},
   "outputs": [
    {
     "data": {
      "text/plain": [
       "(17, 31)"
      ]
     },
     "execution_count": 6,
     "metadata": {},
     "output_type": "execute_result"
    }
   ],
   "source": [
    "((a*b*a*b*a*b*a*b**2*a*b*a*b**2*a*b*a*b)**2).order(), (a*b*a*b*a*b*a*b**2*a*b*a*b**2).order()"
   ]
  },
  {
   "cell_type": "markdown",
   "id": "6492fe58",
   "metadata": {},
   "source": [
    "It now remains to show that $a$ and $b$ satisfy conditions 1-4. \n",
    "\n",
    "Consider the following elements of $\\mathbf{M}$, which have order $104$ and $78$, respectively, and centralise $y$."
   ]
  },
  {
   "cell_type": "code",
   "execution_count": 7,
   "id": "91ff3ee3",
   "metadata": {},
   "outputs": [
    {
     "data": {
      "text/plain": [
       "True"
      ]
     },
     "execution_count": 7,
     "metadata": {},
     "output_type": "execute_result"
    }
   ],
   "source": [
    "g104 = MM(\"M<y_9dh*x_10cbh*d_0ab9h*p_185877467*l_2*p_50603520*l_1*p_210270720*l_1*t_2*l_2*p_70561920*l_2*p_181885440*l_2*t_1*l_2*p_69231360*l_2*p_168579888*l_1*t_2*l_1*p_4012800*l_1*t_1*l_2*p_119792640>\")\n",
    "g78 = MM(\"M<y_163h*x_1489h*d_0a93h*p_107838533*l_2*p_70118400*l_2*p_12439680*t_1*l_1*p_45281280*l_2*p_71871360*l_1*t_2*l_1*p_71005440*l_2*p_179667888*l_1*t_2*l_2*p_60804480*l_1*p_152169888>\")\n",
    "g104.order() == 104 and g78.order() == 78 and Comm(y,g104) == Comm(y,g78) == MM(\"M<1>\")"
   ]
  },
  {
   "cell_type": "markdown",
   "id": "1bec6fb7",
   "metadata": {},
   "source": [
    "Now observe that $g_{104}^{26}=a$ and $g_{78}^{13}=b$. In particular, $|a|=4$ and $|b|=6$."
   ]
  },
  {
   "cell_type": "code",
   "execution_count": 8,
   "id": "612651d9",
   "metadata": {},
   "outputs": [
    {
     "data": {
      "text/plain": [
       "True"
      ]
     },
     "execution_count": 8,
     "metadata": {},
     "output_type": "execute_result"
    }
   ],
   "source": [
    "g104**26 == a and g78**13 == b and a.order() == 4 and b.order() == 6"
   ]
  },
  {
   "cell_type": "markdown",
   "id": "388b9503",
   "metadata": {},
   "source": [
    "The GAP character table library indicates that \n",
    "- all elements of order $104$ in $2.\\mathbf{B}$ power to $2.\\mathbf{B}$-class $4\\text{A}$, and that the latter elements project to $\\mathbf{B}$-class $2\\text{C}$; \n",
    "- all elements of order $78$ in $2.\\mathbf{B}$ power to $2.\\mathbf{B}$-class $6\\text{A}$, and that the latter elements project to $\\mathbf{B}$-class $3\\text{A}$.\n",
    "\n",
    "Therefore, $a$ and $b$ lie in the $2.\\mathbf{B}$-classes $4\\text{A}$ and $6\\text{A}$ and project to the $\\mathbf{B}$-classes $2\\text{C}$ and $3\\text{A}$, respectively. \n",
    "\n",
    "In particular, conditions 1 and 2 hold.\n",
    "\n",
    "All elements of order $55$ in $2.\\mathbf{B}$ project to the $\\mathbf{B}$-class $55\\text{A}$, so to check condition 3 it suffices to confirm that $ab$ has order $55$."
   ]
  },
  {
   "cell_type": "code",
   "execution_count": 9,
   "id": "86097abc",
   "metadata": {},
   "outputs": [
    {
     "data": {
      "text/plain": [
       "True"
      ]
     },
     "execution_count": 9,
     "metadata": {},
     "output_type": "execute_result"
    }
   ],
   "source": [
    "(a*b).order() == 55"
   ]
  },
  {
   "cell_type": "markdown",
   "id": "4ad8ac59",
   "metadata": {},
   "source": [
    "Finally, to check condition 4, it suffices to confirm that the 23rd power of $(ab)^3(ab^2)(ab)(ab^2)^2$ lies in $\\langle y \\rangle = \\{y,y^2\\}$."
   ]
  },
  {
   "cell_type": "code",
   "execution_count": 10,
   "id": "1201789e",
   "metadata": {},
   "outputs": [
    {
     "data": {
      "text/plain": [
       "True"
      ]
     },
     "execution_count": 10,
     "metadata": {},
     "output_type": "execute_result"
    }
   ],
   "source": [
    "((a*b)**3*(a*b**2)*(a*b)*(a*b**2)**2)**23 in [y, y**2]"
   ]
  },
  {
   "cell_type": "markdown",
   "id": "c36846ca",
   "metadata": {},
   "source": [
    "## Generators for $\\text{S}_3 \\times \\text{Th} < \\mathbf{M}$\n",
    "\n",
    "The maximal subgroup $\\text{S}_3 \\times \\text{Th}$ of $\\mathbf{M}$ is the normaliser of an element of class $3\\text{C}$. Our copy of this subgroup is generated by the following four elements; the element $c_3$ is the $3\\text{C}$-element being normalised. "
   ]
  },
  {
   "cell_type": "code",
   "execution_count": 11,
   "id": "178c214a",
   "metadata": {},
   "outputs": [],
   "source": [
    "c2 = MM(\"M<d_200h>\")\n",
    "c3 = MM(\"M<y_4cdh*x_1274h*d_499h*p_8151915*l_2*p_1900800*l_2*p_43255347*t_2*l_2*p_2597760*l_1*p_479249*l_2*t_2*l_1*p_4654080*t_1*l_2*p_2956800*l_1*p_53436116*t_2*l_2*p_2386560*l_2*p_85412773*t_1*l_1*p_1499520*l_1*p_106661296>\")\n",
    "a = MM(\"M<y_4ch*x_47ah*d_0e20h*p_218274859*l_1*p_49272960*l_1*p_151726128*t_1*l_1*p_74997120*l_2*p_71871360*l_1*t_2*l_1*p_60804480*l_2*p_229785600*l_1*t_1*l_1*p_58143360*l_1*p_160153296>\")\n",
    "b = MM(\"M<y_0b5h*x_955h*d_0e1h*p_197852501*l_1*p_70561920*l_1*p_232890288*l_1*t_1*l_1*p_79875840*l_1*p_203617920*l_2*t_2*l_2*p_68344320*l_2*p_202730880*l_1*t_1*l_1*p_117575040*l_1*t_2*l_1*p_109148160*l_2>\")"
   ]
  },
  {
   "cell_type": "markdown",
   "id": "bebdf0ca",
   "metadata": {},
   "source": [
    "To prove this, first note that the elements $c_2$ and $c_3$ are the same as in the \"type T\" case in Listing 8 of our paper. \n",
    "They satisfy $|c_2|=2$, $|c_3|=3$, and $c_3^{c_2} = c_3^{-1}$, so they generate a group isomorphic to $\\text{S}_3$."
   ]
  },
  {
   "cell_type": "code",
   "execution_count": 12,
   "id": "408224bc",
   "metadata": {},
   "outputs": [
    {
     "data": {
      "text/plain": [
       "True"
      ]
     },
     "execution_count": 12,
     "metadata": {},
     "output_type": "execute_result"
    }
   ],
   "source": [
    "c2.order() == 2 and c3.order() == 3 and c3**c2 == c3**-1"
   ]
  },
  {
   "cell_type": "markdown",
   "id": "6222fef8",
   "metadata": {},
   "source": [
    "The group $\\langle c_2,c_3 \\rangle \\cong \\text{S}_3$ commutes with $\\langle a,b \\rangle$."
   ]
  },
  {
   "cell_type": "code",
   "execution_count": 13,
   "id": "de76b90c",
   "metadata": {},
   "outputs": [
    {
     "data": {
      "text/plain": [
       "True"
      ]
     },
     "execution_count": 13,
     "metadata": {},
     "output_type": "execute_result"
    }
   ],
   "source": [
    "Comm(c2,a) == Comm(c2,b) == Comm(c3,a) == Comm(c3,b) == MM(\"M<1>\")"
   ]
  },
  {
   "cell_type": "markdown",
   "id": "794284e4",
   "metadata": {},
   "source": [
    "The element $a$ is of class $2B$, so we conjugate $c_3$ into mmgroup's copy of the $2\\text{B}$-centraliser $2^{1+24}.\\text{Co}_1$ and confirm that $c_3 \\in 3\\text{C}$. \n",
    "The character of the $196883$-dimensional complex representation of $\\mathbf{M}$, which is computed in mmgroup via the method chi_G_x0( )[0], should evaluate on $c_3$ to $-1$."
   ]
  },
  {
   "cell_type": "code",
   "execution_count": 14,
   "id": "59b443ee",
   "metadata": {},
   "outputs": [
    {
     "data": {
      "text/plain": [
       "True"
      ]
     },
     "execution_count": 14,
     "metadata": {},
     "output_type": "execute_result"
    }
   ],
   "source": [
    "ci_a = a.conjugate_involution()\n",
    "ci_a[0] == 2 and (c3**ci_a[1]).in_G_x0() and (c3**ci_a[1]).chi_G_x0()[0] == -1"
   ]
  },
  {
   "cell_type": "markdown",
   "id": "1aeb30bc",
   "metadata": {},
   "source": [
    "At this point, we have established that $\\langle c_2,c_3,a,b \\rangle$ normalises $c_3 \\in 3\\text{C}$ and that $\\langle c_2,c_3 \\rangle$ is the direct factor $\\text{S}_3$ of $N_\\mathbf{M}(\\langle c_3 \\rangle) \\cong \\text{S}_3 \\times \\text{Th}$. \n",
    "\n",
    "In particular, $\\langle a,b \\rangle$ is a subgroup of the direct factor $\\text{Th}$ of $N_\\mathbf{M}(\\langle c_3 \\rangle)$. \n",
    "\n",
    "We claim that $a$ and $b$ are standard generators for $\\text{Th}$. \n",
    "This means that $\\langle a,b \\rangle \\cong \\text{Th}$ and\n",
    "\n",
    "1. $a$ has order $2$, \n",
    "2. $b$ lies in the $\\text{Th}$-class $3\\text{A}$, \n",
    "3. $ab$ has order $19$.\n",
    "\n",
    "Conditions 1 and 3 are readily checked."
   ]
  },
  {
   "cell_type": "code",
   "execution_count": 15,
   "id": "4c15be7b",
   "metadata": {},
   "outputs": [
    {
     "data": {
      "text/plain": [
       "(2, 19)"
      ]
     },
     "execution_count": 15,
     "metadata": {},
     "output_type": "execute_result"
    }
   ],
   "source": [
    "a.order(), (a*b).order()"
   ]
  },
  {
   "cell_type": "markdown",
   "id": "83aed09c",
   "metadata": {},
   "source": [
    "To check condition 2, note that every element of order $39$ in $\\text{Th}$ powers to $\\text{Th}$-class $3\\text{A}$. The following element centralises $\\langle c_2,c_3 \\rangle$, has order $39$, and powers to $b$. Therefore, condition 2 holds."
   ]
  },
  {
   "cell_type": "code",
   "execution_count": 16,
   "id": "ac0078ed",
   "metadata": {},
   "outputs": [
    {
     "data": {
      "text/plain": [
       "True"
      ]
     },
     "execution_count": 16,
     "metadata": {},
     "output_type": "execute_result"
    }
   ],
   "source": [
    "g39 = MM(\"M<y_0f7h*x_4d8h*d_711h*p_106931325*l_2*p_70118400*l_1*p_190312368*l_1*t_1*l_2*p_80319360*l_1*p_222245808*l_2*t_1*l_1*p_67900800*l_1*p_11552640*l_2*t_1*l_2*p_70118400*l_1*p_179668128>\")\n",
    "Comm(g39,c2) == Comm(g39,c2) == MM(\"M<1>\") and g39.order() == 39 and g39**13 == b"
   ]
  },
  {
   "cell_type": "markdown",
   "id": "51b45046",
   "metadata": {},
   "source": [
    "It remains to show that $a$ and $b$ generate $\\text{Th}$. It suffices to exhibit an element of order $31$ in $\\langle a,b \\rangle$, because no maximal subgroup of $\\text{Th}$ contains an element of order $31$ and an element of order $19$."
   ]
  },
  {
   "cell_type": "code",
   "execution_count": 17,
   "id": "681cec73",
   "metadata": {},
   "outputs": [
    {
     "data": {
      "text/plain": [
       "31"
      ]
     },
     "execution_count": 17,
     "metadata": {},
     "output_type": "execute_result"
    }
   ],
   "source": [
    "(a*b*a*b**2*a*b**2*a*b*a*b**2*a*b*a*b*a*b*a*b**2*a*b**2*a*b*a*b).order()"
   ]
  },
  {
   "cell_type": "markdown",
   "id": "c985b53a",
   "metadata": {},
   "source": [
    "## Generators for $3.\\text{Fi}_{24} < \\mathbf{M}$\n",
    "\n",
    "The maximal subgroup $3.\\text{Fi}_{24}$ of $\\mathbf{M}$ is the normaliser of an element of class $3\\text{A}$. Our copy of this subgroup is the normaliser of the following element. "
   ]
  },
  {
   "cell_type": "code",
   "execution_count": 18,
   "id": "118a4cc9",
   "metadata": {},
   "outputs": [],
   "source": [
    "g3 = MM(\"M<y_3dbh*x_14c9h*d_1c6h*p_238425007*l_2*p_1985280*l_1*p_11174636*l_2>\")"
   ]
  },
  {
   "cell_type": "markdown",
   "id": "bdd28a0b",
   "metadata": {},
   "source": [
    "This element has order $3$ and lies in mmgroup's copy of the $2\\text{B}$-centraliser $2^{1+24}.\\text{Co}_1$, so we can confirm that it is of class $3\\text{A}$ by checking that its character value in the $196883$-dimensional complex representation of $\\mathbf{M}$ is $782$."
   ]
  },
  {
   "cell_type": "code",
   "execution_count": 19,
   "id": "2499bfb6",
   "metadata": {},
   "outputs": [
    {
     "data": {
      "text/plain": [
       "True"
      ]
     },
     "execution_count": 19,
     "metadata": {},
     "output_type": "execute_result"
    }
   ],
   "source": [
    "g3.order() == 3 and g3.in_G_x0() and g3.chi_G_x0()[0] == 782"
   ]
  },
  {
   "cell_type": "markdown",
   "id": "52804e31",
   "metadata": {},
   "source": [
    "We claim that the following elements $a$ and $b$ are standard generators for $N_\\mathbf{M}(\\langle g_3 \\rangle) \\cong 3.\\text{Fi}_{24}$. This means that $a$ and $b$ generate $N_\\mathbf{M}(\\langle g_3 \\rangle)$ and that\n",
    "\n",
    "1. $a$ projects to class $2\\text{C}$ in the quotient $N_\\mathbf{M}(\\langle g_3 \\rangle) / \\langle g_3 \\rangle \\cong \\text{Fi}_{24} = \\text{Fi}_{24}'{:}2$, \n",
    "2. $b$ projects to class $8\\text{D}$ in $\\text{Fi}_{24}$, and\n",
    "3. $|ab| = 29$."
   ]
  },
  {
   "cell_type": "code",
   "execution_count": 20,
   "id": "b09d8e07",
   "metadata": {},
   "outputs": [],
   "source": [
    "a = MM(\"M<y_5f6h*x_0fbeh*d_2ebh*p_193227272*l_2*p_2830080*l_2*p_32067203*t_2*l_2*p_2344320*l_2*p_12596663*l_1*t_2*l_2*p_1415040*l_1*p_21817200*l_2*t_2*l_2*p_1943040*l_2*p_22351232*l_2*t_1*l_1*p_2027520*l_1*p_13443*t_2*l_1*p_1457280*l_2*p_53938>\")\n",
    "b = MM(\"M<y_743h*x_11f4h*d_391h*p_92316215*l_1*p_2999040*l_1*p_467894*t_1*l_1*p_2999040*l_1*p_26931*l_1*t_2*l_2*p_1900800*l_2*p_33465249*l_1*t_1*l_2*p_2830080*l_2*p_85326162*t_2*l_1*p_1457280*l_2*p_129106*t_2*l_1*p_1499520*l_2*p_1485571*l_1*t_1*l_2*p_2597760*l_1*p_53391808*t_2*l_1*p_1499520*l_2*p_42667429>\")"
   ]
  },
  {
   "cell_type": "markdown",
   "id": "cb2c443b",
   "metadata": {},
   "source": [
    "First note that $a$ and $b$ normalise $\\langle g_3 \\rangle$ (both invert $g_3$) but do not lie in $\\langle g_3 \\rangle$."
   ]
  },
  {
   "cell_type": "code",
   "execution_count": 21,
   "id": "7acfd36d",
   "metadata": {},
   "outputs": [
    {
     "data": {
      "text/plain": [
       "True"
      ]
     },
     "execution_count": 21,
     "metadata": {},
     "output_type": "execute_result"
    }
   ],
   "source": [
    "g3**a == g3**b == g3**-1 and not(a in [g3,g3**2,g3**3]) and not(b in [g3,g3**2,g3**3])"
   ]
  },
  {
   "cell_type": "markdown",
   "id": "480f77f0",
   "metadata": {},
   "source": [
    "Moreover, $|a|=2$ and $|b|=8$ are coprime to $3$, so $a$ and $b$ project to elements of their respective orders in $N_\\mathbf{M}(\\langle g_3 \\rangle) / \\langle g_3 \\rangle \\cong \\text{Fi}_{24}$."
   ]
  },
  {
   "cell_type": "code",
   "execution_count": 22,
   "id": "54facb64",
   "metadata": {},
   "outputs": [
    {
     "data": {
      "text/plain": [
       "(2, 8)"
      ]
     },
     "execution_count": 22,
     "metadata": {},
     "output_type": "execute_result"
    }
   ],
   "source": [
    "a.order(), b.order()"
   ]
  },
  {
   "cell_type": "markdown",
   "id": "8216be3d",
   "metadata": {},
   "source": [
    "The character table of $\\text{Fi}_{24}$ in GAP indicates that all elements of order $46$ power to class $2\\text{C}$, and that all elements of order $40$ power to class $8\\text{D}$. The following elements normalise $\\langle g_3 \\rangle$, have order $46$ and $40$, respectively, and power to $a$ and $b$, respectively, so it follows that conditions 1 and 2 hold."
   ]
  },
  {
   "cell_type": "code",
   "execution_count": 23,
   "id": "ff39d6cd",
   "metadata": {},
   "outputs": [],
   "source": [
    "g46 = MM(\"M<y_5feh*x_1f1h*d_292h*p_192994065*l_2*p_60360960*l_1*p_230672640*t_1*l_2*p_1985280*l_1*p_12135864*l_1*t_2*l_1*p_1457280*l_2*p_36672*l_1*t_2*l_2*p_2597760*l_1*p_63996822*t_1*l_2*p_1943040*l_2*p_11604637*l_2*t_1*l_2*p_1943040*l_2*p_63998817*t_2*l_2*p_2956800*l_1*p_42706001>\")\n",
    "g40 = MM(\"M<y_57fh*x_1d3h*d_603h*p_39537390*l_2*p_2344320*l_2*p_53820870*t_2*l_1*p_1457280*l_2*p_464944*l_2*t_1*l_2*p_1985280*l_1*p_32547596*l_2*t_2*l_2*p_1943040*l_2*p_43600722*t_1*l_2*p_1985280*l_1*p_42731872*t_2*l_2*p_1457280*l_1*p_71216*t_2*l_2*p_2956800*l_1*p_106698940>\")"
   ]
  },
  {
   "cell_type": "code",
   "execution_count": 24,
   "id": "3962390d",
   "metadata": {},
   "outputs": [
    {
     "data": {
      "text/plain": [
       "True"
      ]
     },
     "execution_count": 24,
     "metadata": {},
     "output_type": "execute_result"
    }
   ],
   "source": [
    "g3**g46 == g3**g40 == g3**-1 and g46.order() == 46 and g40.order() == 40 and g46**23 == a and g40**5 == b"
   ]
  },
  {
   "cell_type": "markdown",
   "id": "31f46293",
   "metadata": {},
   "source": [
    "Finally, condition 3 also holds."
   ]
  },
  {
   "cell_type": "code",
   "execution_count": 25,
   "id": "96c831ee",
   "metadata": {},
   "outputs": [
    {
     "data": {
      "text/plain": [
       "29"
      ]
     },
     "execution_count": 25,
     "metadata": {},
     "output_type": "execute_result"
    }
   ],
   "source": [
    "(a*b).order()"
   ]
  },
  {
   "cell_type": "markdown",
   "id": "1e9edfa3",
   "metadata": {},
   "source": [
    "## Generators for $\\text{PSL}_2(29){:}2 < \\mathbf{M}$\n",
    "\n",
    "The maximal subgroup $\\text{PSL}_2(29){:}2$ of $\\mathbf{M}$ is not explicitly discussed in our paper, but one reason for constructing a copy of it is that the conjugacy class fusion from $\\text{PSL}_2(29){:}2$ to $\\mathbf{M}$ had not previously been entirely determined (and was therefore not yet stored in the GAP character table library).\n",
    "\n",
    "<a href=\"https://doi.org/10.1006/jabr.2001.9037\">Holmes and Wilson</a> proved that $\\mathbf{M}$ has a unique conjugacy class of subgroups isomorphic to $\\text{PSL}_2(29)$, and that every such subgroup extends to a maximal subgroup of the form $\\text{PSL}_2(29){:}2 = \\text{Aut}(\\text{PSL}_2(29))$. It therefore suffices to construct any $\\text{PSL}_2(29){:}2 < \\mathbf{M}$. \n",
    "\n",
    "Consider the following elements, noting that $a$ is the standard $2\\text{B}$-involution in mmgroup, i.e. the center of the distinguished $2\\text{B}$-centraliser $\\mathbf{G} \\cong 2^{1+24}.\\text{Co}_1$."
   ]
  },
  {
   "cell_type": "code",
   "execution_count": 26,
   "id": "92ad0abf",
   "metadata": {},
   "outputs": [],
   "source": [
    "a = MM(\"M<x_1000h>\")\n",
    "b = MM(\"M<y_0a7h*x_51fh*d_0d58h*p_43929380*l_2*p_2344320*l_2*p_11172722*t_2*l_1*p_1457280*l_2*p_572681*t_1*l_2*p_2830080*l_2*p_64084352*t_1*l_2*p_1943040*l_2*p_85812140*t_1*l_2*p_2386560*l_2*p_42676049*t_1*l_2*p_2830080*l_2*p_85373280*t_1*l_2*p_2386560*l_2*p_42666435>\")"
   ]
  },
  {
   "cell_type": "markdown",
   "id": "4b08af41",
   "metadata": {},
   "source": [
    "<a href=\"https://doi.org/10.1017/S0013091500022239\">Robertson and Williams</a> show that $\\text{PSL}_2(29){:}2$ has the following presentation: \n",
    "\n",
    "$\\langle a,b \\mid a^2 = b^{29} = (ab^2)^4 = (abab^2)^3 = 1 \\rangle$.\n",
    "\n",
    "Our elements $a$ and $b$ satisfy this presentation."
   ]
  },
  {
   "cell_type": "code",
   "execution_count": 27,
   "id": "550126d3",
   "metadata": {},
   "outputs": [
    {
     "data": {
      "text/plain": [
       "True"
      ]
     },
     "execution_count": 27,
     "metadata": {},
     "output_type": "execute_result"
    }
   ],
   "source": [
    "a**2 == b**29 == (a*b**2)**4 == (a*b*a*b**2)**3 == MM(\"M<1>\")"
   ]
  },
  {
   "cell_type": "markdown",
   "id": "2d638cd9",
   "metadata": {},
   "source": [
    "It follows from Von Dyck's Theorem that $\\langle a,b \\rangle \\cong \\text{PSL}_2(29){:}2$ or $\\text{PSL}_2(29)$. The latter group has no elements of order $28$, so to show that $\\langle a,b \\rangle \\cong \\text{PSL}_2(29){:}2$ it now suffices to exhibit an element of order $28$ in $\\langle a,b \\rangle$."
   ]
  },
  {
   "cell_type": "code",
   "execution_count": 28,
   "id": "fe816497",
   "metadata": {},
   "outputs": [
    {
     "data": {
      "text/plain": [
       "28"
      ]
     },
     "execution_count": 28,
     "metadata": {},
     "output_type": "execute_result"
    }
   ],
   "source": [
    "(a*b).order()"
   ]
  },
  {
   "cell_type": "markdown",
   "id": "bdf06164",
   "metadata": {},
   "source": [
    "We now turn to the question of class fusion. Let $P = \\langle a,b \\rangle \\cong \\text{PSL}_2(29){:}2$. We claim that \n",
    "* all elements of order $28$ in $P$ lie in the $\\mathbf{M}$-class $28\\text{D}$, and\n",
    "* all elements of order $30$ in $P$ lie in the $\\mathbf{M}$-class $30\\text{G}$.\n",
    "\n",
    "The power maps in the character tables of $P$ and $\\mathbf{M}$ then imply that every other non-trivial $P$-class fuses to one of the following $\\mathbf{M}$-classes: \n",
    "\n",
    "$2\\text{B}$, $3\\text{B}$, $4\\text{D}$, $5\\text{B}$, $6\\text{E}$, $7\\text{B}$, $10\\text{E}$, $14\\text{C}$, $15\\text{C}$.\n",
    "\n",
    "The group $P$ has unique conjugacy classes of cyclic subgroups of order $28$ and $30$, and all conjugacy classes of elements of order $28$ or $30$ in $\\mathbf{M}$ are rational, so to prove the claim it suffices to check a single element of each order in $P$.\n",
    "\n",
    "Let $\\chi_\\mathbf{M}$ denote the character of the $198663$-dimensional complex representation of $\\mathbf{M}$. \n",
    "\n",
    "The following element of $P$ has order $28$ and powers to a $2\\text{B}$-involution, so we can conjugate it into $\\mathbf{G}$ and calculate that its $\\chi_\\mathbf{M}$-value is $1$. This indicates that the element lies in the $\\mathbf{M}$-class $28\\text{D}$ as claimed."
   ]
  },
  {
   "cell_type": "code",
   "execution_count": 29,
   "id": "02aa4300",
   "metadata": {},
   "outputs": [
    {
     "data": {
      "text/plain": [
       "True"
      ]
     },
     "execution_count": 29,
     "metadata": {},
     "output_type": "execute_result"
    }
   ],
   "source": [
    "g28 = a*b\n",
    "ci_g28 = (g28**14).conjugate_involution()\n",
    "g28.order() == 28 and ci_g28[0] == 2 and (g28**ci_g28[1]).in_G_x0() and (g28**ci_g28[1]).chi_G_x0()[0] == 1"
   ]
  },
  {
   "cell_type": "markdown",
   "id": "6be8b41b",
   "metadata": {},
   "source": [
    "The following element of $P$ has order $30$ and commutes with the standard $2\\text{B}$-involution $a$, i.e. it lies in $\\mathbf{G}$, so calculate directly that its $\\chi_\\mathbf{M}$-value is $0$. This indicates that the element lies in the $\\mathbf{M}$-class $30\\text{G}$ as claimed."
   ]
  },
  {
   "cell_type": "code",
   "execution_count": 30,
   "id": "651bf2e2",
   "metadata": {},
   "outputs": [
    {
     "data": {
      "text/plain": [
       "True"
      ]
     },
     "execution_count": 30,
     "metadata": {},
     "output_type": "execute_result"
    }
   ],
   "source": [
    "g30 = a*b**2*Comm(a,a*b**2)**7\n",
    "g30.order() == 30 and g30.in_G_x0() and g30.chi_G_x0()[0] == 0"
   ]
  }
 ],
 "metadata": {
  "kernelspec": {
   "display_name": "Python 3 (ipykernel)",
   "language": "python",
   "name": "python3"
  },
  "language_info": {
   "codemirror_mode": {
    "name": "ipython",
    "version": 3
   },
   "file_extension": ".py",
   "mimetype": "text/x-python",
   "name": "python",
   "nbconvert_exporter": "python",
   "pygments_lexer": "ipython3",
   "version": "3.9.13"
  }
 },
 "nbformat": 4,
 "nbformat_minor": 5
}
